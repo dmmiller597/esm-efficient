{
 "cells": [
  {
   "cell_type": "code",
   "execution_count": null,
   "id": "d980c57f",
   "metadata": {},
   "outputs": [],
   "source": [
    "import pandas as pd\n",
    "import matplotlib.pyplot as plt\n",
    "import seaborn as sns"
   ]
  },
  {
   "cell_type": "code",
   "execution_count": null,
   "id": "6c2e472b",
   "metadata": {},
   "outputs": [],
   "source": [
    "df = list()\n",
    "\n",
    "for i in snakemake.input:\n",
    "    model = i.split('=')[-1].split('_')[0]\n",
    "    df.append(pd.read_csv(i).assign(model=model))\n",
    "    \n",
    "df = pd.concat(df)"
   ]
  },
  {
   "cell_type": "code",
   "execution_count": null,
   "id": "2a6ac354",
   "metadata": {},
   "outputs": [],
   "source": [
    "plt.figure(figsize=(7, 4), dpi=300)\n",
    "sns.lineplot(data=df, x='length', y='mem_gb', hue='model')\n",
    "plt.yscale('log')\n",
    "sns.despine()\n",
    "plt.xlabel('Protein Length (Number of Tokens)')\n",
    "plt.ylabel('Memory (GB)')\n",
    "plt.legend(loc=(1.01, 0.3), title='Model')\n",
    "plt.savefig(snakemake.output['fig'], bbox_inches='tight', dpi=300, transparent=True)"
   ]
  }
 ],
 "metadata": {
  "language_info": {
   "name": "python"
  }
 },
 "nbformat": 4,
 "nbformat_minor": 5
}
