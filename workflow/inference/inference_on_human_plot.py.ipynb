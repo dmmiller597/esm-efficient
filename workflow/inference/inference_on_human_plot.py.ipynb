{
 "cells": [
  {
   "cell_type": "code",
   "execution_count": null,
   "id": "0f77fe0c",
   "metadata": {},
   "outputs": [],
   "source": [
    "import pandas as pd\n",
    "import matplotlib.pyplot as plt\n",
    "import seaborn as sns"
   ]
  },
  {
   "cell_type": "code",
   "execution_count": null,
   "id": "df2d7342",
   "metadata": {},
   "outputs": [],
   "source": [
    "df = pd.DataFrame({\n",
    "    'Implementation': ['Baseline', 'Efficient', 'Baseline', 'Efficient'],\n",
    "    'Model': ['ESM-2 (650M)', 'ESM-2 (650M)', 'ESM-C (600M)', 'ESM-C (600M)'],\n",
    "    'Runtime (s)': [\n",
    "       -round(float(open(snakemake.input['runtime_baseline_esm2']).read().strip()), 2), \n",
    "       -round(float(open(snakemake.input['runtime_efficient_esm2']).read().strip()), 2), \n",
    "       -round(float(open(snakemake.input['runtime_baseline_esmc']).read().strip()), 2), \n",
    "       -round(float(open(snakemake.input['runtime_efficient_esmc']).read().strip()), 2), \n",
    "    ]\n",
    "})"
   ]
  },
  {
   "cell_type": "code",
   "execution_count": null,
   "id": "834ff7ab",
   "metadata": {},
   "outputs": [],
   "source": [
    "plt.figure(figsize=(5, 5), dpi=300)\n",
    "\n",
    "sns.barplot(hue='Implementation', y='Runtime (s)', data=df, x='Model', palette='viridis')\n",
    "sns.despine()\n",
    "\n",
    "for i, row in df.iterrows():\n",
    "    plt.text(i / 2 - (.3 if i % 2 else .2), row['Runtime (s)'] + 10, row['Runtime (s)'], ha='center')\n",
    "\n",
    "plt.savefig(snakemake.output[0], bbox_inches='tight', dpi=300, transparent=True)"
   ]
  }
 ],
 "metadata": {
  "kernelspec": {
   "display_name": "esme",
   "language": "python",
   "name": "python3"
  },
  "language_info": {
   "codemirror_mode": {
    "name": "ipython",
    "version": 3
   },
   "file_extension": ".py",
   "mimetype": "text/x-python",
   "name": "python",
   "nbconvert_exporter": "python",
   "pygments_lexer": "ipython3",
   "version": "3.11.9"
  }
 },
 "nbformat": 4,
 "nbformat_minor": 5
}
