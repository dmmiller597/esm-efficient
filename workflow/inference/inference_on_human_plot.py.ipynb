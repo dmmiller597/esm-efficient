{
 "cells": [
  {
   "cell_type": "code",
   "execution_count": 1,
   "id": "0f77fe0c",
   "metadata": {},
   "outputs": [],
   "source": [
    "import pandas as pd\n",
    "import matplotlib.pyplot as plt\n",
    "import seaborn as sns"
   ]
  },
  {
   "cell_type": "code",
   "execution_count": null,
   "id": "df2d7342",
   "metadata": {},
   "outputs": [],
   "source": [
    "df = pd.DataFrame({\n",
    "    'Implementation': ['Baseline', 'Efficient'],\n",
    "    'Runtime (s)': [\n",
    "       -round(float(open(snakemake.input['runtime_baseline']).read().strip()), 2), \n",
    "       -round(float(open(snakemake.input['runtime_efficient']).read().strip()), 2), \n",
    "    ]\n",
    "})"
   ]
  },
  {
   "cell_type": "code",
   "execution_count": null,
   "id": "834ff7ab",
   "metadata": {},
   "outputs": [],
   "source": [
    "plt.figure(figsize=(5, 5), dpi=300)\n",
    "\n",
    "sns.barplot(x='Implementation', y='Runtime (s)', data=df)\n",
    "sns.despine()\n",
    "\n",
    "for i, row in df.iterrows():\n",
    "    plt.text(i, row['Runtime (s)']+ 25, row['Runtime (s)'], ha='center')\n",
    "\n",
    "plt.savefig(snakemake.output[0], bbox_inches='tight', dpi=300, transparent=True)"
   ]
  }
 ],
 "metadata": {
  "language_info": {
   "name": "python"
  }
 },
 "nbformat": 4,
 "nbformat_minor": 5
}
