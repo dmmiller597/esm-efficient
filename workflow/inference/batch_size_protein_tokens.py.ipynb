{
 "cells": [
  {
   "cell_type": "code",
   "execution_count": null,
   "id": "93c882e6",
   "metadata": {},
   "outputs": [],
   "source": [
    "import pandas as pd\n",
    "from tqdm import tqdm\n",
    "import matplotlib.pyplot as plt\n",
    "import seaborn as sns\n",
    "from esme.alphabet import padding_idx\n",
    "from esme.data import FastaTokenDataset, FastaDataset"
   ]
  },
  {
   "cell_type": "code",
   "execution_count": null,
   "id": "561cf20c",
   "metadata": {},
   "outputs": [],
   "source": [
    "dl_protein = FastaDataset(snakemake.input['fasta']).to_dataloader(batch_size=16, drop_last=True)"
   ]
  },
  {
   "cell_type": "code",
   "execution_count": null,
   "id": "d3101534",
   "metadata": {},
   "outputs": [],
   "source": [
    "dl_token = FastaTokenDataset(snakemake.input['fasta'], token_per_batch=100_000, drop_last=True).to_dataloader()"
   ]
  },
  {
   "cell_type": "code",
   "execution_count": null,
   "id": "544e873c",
   "metadata": {},
   "outputs": [],
   "source": [
    "df_protein = list()\n",
    "\n",
    "for i, tokens in tqdm(enumerate(dl_protein)):\n",
    "    df_protein.append({\n",
    "        'step': i,\n",
    "        'protein': tokens.shape[0],\n",
    "        'tokens': (tokens != padding_idx).sum().item()\n",
    "    })\n",
    "\n",
    "df_protein = pd.DataFrame(df_protein)"
   ]
  },
  {
   "cell_type": "code",
   "execution_count": null,
   "id": "3f8b132b",
   "metadata": {},
   "outputs": [],
   "source": [
    "fig, axs = plt.subplots(1, 2, figsize=(8, 4), dpi=300)\n",
    "\n",
    "plt.suptitle('Batch Size by Proteins')\n",
    "sns.lineplot(data=df_protein, x='step', y='tokens', ax=axs[0])\n",
    "axs[0].set_ylabel('Number of Tokens per Batch')\n",
    "axs[0].text(0.6, 0.75, f\"min: {df_protein['tokens'].min()}\\nmax: {df_protein['tokens'].max()}\\nmean: {df_protein['tokens'].mean():.0f}\\nstd: {df_protein['tokens'].std():.0f}\", transform=axs[0].transAxes)\n",
    "sns.lineplot(data=df_protein, x='step', y='protein', ax=axs[1])\n",
    "axs[1].set_ylabel('Number of Proteins per Batch')\n",
    "sns.despine()\n",
    "plt.savefig(snakemake.output['fig_protein'], bbox_inches='tight', dpi=300, transparent=True)"
   ]
  },
  {
   "cell_type": "code",
   "execution_count": null,
   "id": "35276403",
   "metadata": {},
   "outputs": [],
   "source": [
    "df_token = list()\n",
    "\n",
    "for i, tokens in tqdm(enumerate(dl_token)):\n",
    "    df_token.append({\n",
    "        'step': i,\n",
    "        'protein': tokens.shape[0],\n",
    "        'tokens': (tokens != padding_idx).sum().item()\n",
    "    })\n",
    "\n",
    "df_token = pd.DataFrame(df_token)"
   ]
  },
  {
   "cell_type": "code",
   "execution_count": null,
   "id": "ec44febb",
   "metadata": {},
   "outputs": [],
   "source": [
    "fig, axs = plt.subplots(1, 2, figsize=(8, 4), dpi=300)\n",
    "\n",
    "plt.suptitle('Batch Size by Token')\n",
    "sns.lineplot(data=df_token, x='step', y='tokens', ax=axs[0])\n",
    "axs[0].set_ylabel('Number of Tokens per Batch')\n",
    "axs[0].text(.1, .1, f\"min: {df_token['tokens'].min()}\\nmax: {df_token['tokens'].max()}\\nmean: {df_token['tokens'].mean():.0f}\\nstd: {df_token['tokens'].std():.0f}\", transform=axs[0].transAxes)\n",
    "axs[0].set_ylim(0, 100_500)\n",
    "sns.lineplot(data=df_token, x='step', y='protein', ax=axs[1])\n",
    "axs[1].set_ylabel('Number of Proteins per Batch')\n",
    "axs[1].text(.1, .1, f\"min: {df_token['protein'].min()}\\nmax: {df_token['protein'].max()}\\nmean: {df_token['protein'].mean():.2f}\\nstd: {df_token['protein'].std():.2f}\", transform=axs[1].transAxes)\n",
    "sns.despine()\n",
    "plt.savefig(snakemake.output['fig_tokens'], bbox_inches='tight', dpi=300, transparent=True)"
   ]
  }
 ],
 "metadata": {
  "language_info": {
   "name": "python"
  }
 },
 "nbformat": 4,
 "nbformat_minor": 5
}
