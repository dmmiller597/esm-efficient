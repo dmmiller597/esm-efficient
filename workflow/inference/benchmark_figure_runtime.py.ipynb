{
 "cells": [
  {
   "cell_type": "code",
   "execution_count": null,
   "id": "bfff01ed",
   "metadata": {},
   "outputs": [],
   "source": [
    "import pandas as pd\n",
    "import seaborn as sns\n",
    "import matplotlib.pyplot as plt"
   ]
  },
  {
   "cell_type": "code",
   "execution_count": null,
   "id": "12f12a00",
   "metadata": {},
   "outputs": [],
   "source": [
    "df = list()\n",
    "\n",
    "for i in snakemake.input['runtime']:\n",
    "    _df = pd.read_csv(i)\n",
    "    i = i.split('_')\n",
    "    _df['model'] = i[2].replace('model=', '')\n",
    "    _df['Quantization'] =  i[3].replace('q=', '')\n",
    "    df.append(_df)\n",
    "    \n",
    "df = pd.concat(df)"
   ]
  },
  {
   "cell_type": "code",
   "execution_count": null,
   "id": "4e5db80b",
   "metadata": {},
   "outputs": [],
   "source": [
    "df['Efficient'] = df['model'].str.endswith('e')\n",
    "df['Model Size'] = df['model'].str.replace('e', '')"
   ]
  },
  {
   "cell_type": "code",
   "execution_count": null,
   "id": "5790ab07",
   "metadata": {},
   "outputs": [],
   "source": [
    "plt.figure(figsize=(6, 2), dpi=300)\n",
    "\n",
    "ax = sns.lineplot(data=df[(df['Quantization'] == 'False') & (df['mem_gb'] != -1)], \n",
    "                  x='length', y='mem_gb', hue='Model Size', style='Efficient')\n",
    "sns.despine()\n",
    "plt.xlabel('Protein Length')\n",
    "plt.ylabel('Memory Usage (GB)')\n",
    "\n",
    "oom_limit = 49.1\n",
    "plt.axhline(y=oom_limit, linestyle='--', color='black')\n",
    "plt.ylim(-1, oom_limit + 5)\n",
    "\n",
    "import random\n",
    "_df = df[df['mem_gb'] == -1] \n",
    "for i, row in enumerate(_df.itertuples()):\n",
    "    print(row)\n",
    "    ax.text(row.length, oom_limit + 1, 'OOM', \n",
    "            color=palette[row.model], ha='center', rotation=60)\n",
    "\n",
    "plt.legend([],[], frameon=False)\n",
    "plt.savefig(snakemake.output['fig'], bbox_inches='tight', dpi=300)"
   ]
  },
  {
   "cell_type": "code",
   "execution_count": null,
   "id": "7ae01a15",
   "metadata": {},
   "outputs": [],
   "source": [
    "plt.figure(figsize=(6, 2), dpi=300)\n",
    "sns.boxplot(data=df[df['Efficient']], x='Model Size', y='runtime', hue='Quantization')\n",
    "sns.despine()\n",
    "plt.ylabel('Runtime (Seconds)')\n",
    "plt.savefig(snakemake.output['fig_quantize'], bbox_inches='tight', dpi=300)"
   ]
  }
 ],
 "metadata": {
  "kernelspec": {
   "display_name": "esm-efficient",
   "language": "python",
   "name": "python3"
  },
  "language_info": {
   "codemirror_mode": {
    "name": "ipython",
    "version": 3
   },
   "file_extension": ".py",
   "mimetype": "text/x-python",
   "name": "python",
   "nbconvert_exporter": "python",
   "pygments_lexer": "ipython3",
   "version": "3.8.18"
  }
 },
 "nbformat": 4,
 "nbformat_minor": 5
}
