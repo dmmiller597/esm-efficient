{
 "cells": [
  {
   "cell_type": "code",
   "execution_count": null,
   "id": "0232de71",
   "metadata": {},
   "outputs": [],
   "source": [
    "import numpy as np\n",
    "import polars as pl\n",
    "import matplotlib.pyplot as plt\n",
    "import seaborn as sns\n",
    "\n",
    "sns.set_style(\"whitegrid\")"
   ]
  },
  {
   "cell_type": "code",
   "execution_count": null,
   "id": "745c0f60",
   "metadata": {},
   "outputs": [],
   "source": [
    "cols = [\"id\", \"length\", \"offset\", \"line_bases\", \"line_width\"]\n",
    "df = pl.scan_csv(snakemake.input['index'], separator=\"\\t\", \n",
    "                 has_header=False, new_columns=cols)"
   ]
  },
  {
   "cell_type": "code",
   "execution_count": null,
   "id": "0c8577d7",
   "metadata": {},
   "outputs": [],
   "source": [
    "df = df.select(pl.col(\"length\")).collect().to_pandas()\n",
    "df['$log_{10}(length)$'] = np.log10(df['length'])"
   ]
  },
  {
   "cell_type": "code",
   "execution_count": null,
   "id": "00f795ff",
   "metadata": {},
   "outputs": [],
   "source": [
    "plt.figure(figsize=(5, 5), dpi=300)\n",
    "sns.histplot(data=df, x='$log_{10}(length)$', bins=50)\n",
    "plt.ylabel('Number of Proteins')\n",
    "plt.text(.1, .9, f\"Median: {df['length'].median():.2f}\",\n",
    "         transform=plt.gca().transAxes)\n",
    "plt.text(.1, .85, f\"Q1: {df['length'].quantile(0.25):.2f}\",\n",
    "         transform=plt.gca().transAxes)\n",
    "plt.text(.1, .8, f\"Q3: {df['length'].quantile(0.75):.2f}\", \n",
    "         transform=plt.gca().transAxes)\n",
    "plt.yscale('log')\n",
    "plt.savefig(snakemake.output['fig_hist'], bbox_inches='tight', dpi=300, transparent=True)"
   ]
  },
  {
   "cell_type": "code",
   "execution_count": null,
   "id": "49f342d8",
   "metadata": {},
   "outputs": [],
   "source": [
    "plt.figure(figsize=(5, 5), dpi=300)\n",
    "sns.ecdfplot(data=df, x='$log_{10}(length)$')\n",
    "plt.ylabel('Proportion of Proteins')\n",
    "# percent of protein longer than 1000\n",
    "plt.text(.7, .6, \"$Length > 1000$ \\n\" f\"${100 * np.mean(df['length'] > 1000):.2f}\\%$ \\n\" f\"$n={np.sum(df['length'] > 1000)}$\",\n",
    "         transform=plt.gca().transAxes)\n",
    "plt.axvline(3, color='red', linestyle='--')\n",
    "plt.savefig(snakemake.output['fig_cdf'], bbox_inches='tight', dpi=300, transparent=True)"
   ]
  }
 ],
 "metadata": {
  "kernelspec": {
   "display_name": "lightning",
   "language": "python",
   "name": "python3"
  },
  "language_info": {
   "codemirror_mode": {
    "name": "ipython",
    "version": 3
   },
   "file_extension": ".py",
   "mimetype": "text/x-python",
   "name": "python",
   "nbconvert_exporter": "python",
   "pygments_lexer": "ipython3",
   "version": "3.8.19"
  }
 },
 "nbformat": 4,
 "nbformat_minor": 5
}
