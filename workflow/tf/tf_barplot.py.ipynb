{
 "cells": [
  {
   "cell_type": "code",
   "execution_count": null,
   "id": "4257950c",
   "metadata": {},
   "outputs": [],
   "source": [
    "import pandas as pd\n",
    "import seaborn as sns\n",
    "import matplotlib.pyplot as plt\n",
    "from sklearn.metrics import auc"
   ]
  },
  {
   "cell_type": "code",
   "execution_count": null,
   "id": "e321caf1",
   "metadata": {},
   "outputs": [],
   "source": [
    "df = list()\n",
    "\n",
    "df_deeptfactor = pd.read_csv(snakemake.input['deepfactor_roc'])\n",
    "df_deeptfactor['method'] = 'DeepTFactor'\n",
    "df.append({\n",
    "    'method': 'DeepTFactor',\n",
    "    'auc': auc(df_deeptfactor['fpr'], df_deeptfactor['tpr']),\n",
    "    'lora': 'DeepTFactor',\n",
    "})\n",
    "\n",
    "for i in snakemake.input['roc']:\n",
    "    _df = pd.read_csv(i)\n",
    "    df.append({\n",
    "        'method': i.split('=')[1].split('_')[0].replace('e', ''),\n",
    "        'auc': auc(_df.fpr, _df.tpr),\n",
    "        'lora': 'Head Only'\n",
    "    })\n",
    "\n",
    "for i in snakemake.input['roc_lora']:\n",
    "    _df = pd.read_csv(i)\n",
    "    df.append({\n",
    "        'method': i.split('=')[1].split('_')[0].replace('e', ''),\n",
    "        'auc': auc(_df.fpr, _df.tpr),\n",
    "        'lora': 'Head + LoRA'\n",
    "    })\n",
    "\n",
    "df = pd.DataFrame(df)\n",
    "df['method'] = pd.Categorical(df['method'], categories=list(df['method'].unique()), ordered=True)\n",
    "df['lora'] = pd.Categorical(df['lora'], categories=['DeepTFactor', 'Head Only', 'Head + LoRA'], ordered=True)"
   ]
  },
  {
   "cell_type": "code",
   "execution_count": null,
   "id": "416df004",
   "metadata": {},
   "outputs": [],
   "source": [
    "df.rename(columns={'method': 'Model Size', 'auc': 'AUPRC', 'lora': 'Method'}) \\\n",
    "    .to_csv(snakemake.output['table_roc'], index=False)"
   ]
  },
  {
   "cell_type": "code",
   "execution_count": null,
   "id": "eb45ea60",
   "metadata": {},
   "outputs": [],
   "source": [
    "plt.figure(figsize=(6, 4), dpi=300)\n",
    "plot = sns.barplot(data=df, x='method', y='auc', hue='lora', order=df['method'].cat.categories, hue_order=df['lora'].cat.categories)\n",
    "\n",
    "for i, bar in enumerate(plot.patches):\n",
    "    current_width = bar.get_width()\n",
    "    current_pos = bar.get_x()\n",
    "    \n",
    "    if i == 0:\n",
    "        bar.set_x(current_pos + current_width)\n",
    "    else:\n",
    "        bar.set_x(current_pos - current_width / 2)\n",
    "\n",
    "plt.legend(loc='lower right', title='Method')\n",
    "plt.xlabel('Method')\n",
    "plt.ylabel('AUROC')\n",
    "sns.despine()\n",
    "plt.savefig(snakemake.output['roc'], bbox_inches='tight', dpi=300, transparent=True)"
   ]
  },
  {
   "cell_type": "code",
   "execution_count": null,
   "id": "b8fc773e",
   "metadata": {},
   "outputs": [],
   "source": [
    "df = list()\n",
    "\n",
    "df_deeptfactor_pr = pd.read_csv(snakemake.input['deepfactor_pr'])\n",
    "df_deeptfactor_pr['method'] = 'DeepTFactor'\n",
    "df.append({\n",
    "    'method': 'DeepTFactor',\n",
    "    'auc': auc(df_deeptfactor_pr['recall'], df_deeptfactor_pr['precision']),\n",
    "    'lora': 'DeepTFactor',\n",
    "})\n",
    "\n",
    "for i in snakemake.input['pr']:\n",
    "    _df = pd.read_csv(i)\n",
    "    df.append({\n",
    "        'method': i.split('=')[1].split('_')[0].replace('e', ''),\n",
    "        'auc': auc(_df['recall'], _df['precision']),\n",
    "        'lora': 'Head Only'\n",
    "    })\n",
    "\n",
    "for i in snakemake.input['pr_lora']:\n",
    "    _df = pd.read_csv(i)\n",
    "    df.append({\n",
    "        'method': i.split('=')[1].split('_')[0].replace('e', ''),\n",
    "        'auc': auc(_df['recall'], _df['precision']),\n",
    "        'lora': 'Head + LoRA'\n",
    "    })\n",
    "\n",
    "df = pd.DataFrame(df)\n",
    "df['method'] = pd.Categorical(df['method'], categories=list(df['method'].unique()), ordered=True)\n",
    "df['lora'] = pd.Categorical(df['lora'], categories=['DeepTFactor', 'Head Only', 'Head + LoRA'], ordered=True)"
   ]
  },
  {
   "cell_type": "code",
   "execution_count": null,
   "id": "8de337b1",
   "metadata": {},
   "outputs": [],
   "source": [
    "df.rename(columns={'method': 'Model Size', 'auc': 'AUPRC', 'lora': 'Method'}) \\\n",
    "    .to_csv(snakemake.output['table_precision_recall'], index=False)"
   ]
  },
  {
   "cell_type": "code",
   "execution_count": null,
   "id": "feb806f3",
   "metadata": {},
   "outputs": [],
   "source": [
    "plt.figure(figsize=(6, 4), dpi=300)\n",
    "plot = sns.barplot(data=df, x='method', y='auc', hue='lora')\n",
    "plt.legend(loc='lower right', title='Method')\n",
    "plt.xlabel('Method')\n",
    "plt.ylabel('AUPRC')\n",
    "sns.despine()\n",
    "\n",
    "for i, bar in enumerate(plot.patches):\n",
    "    current_width = bar.get_width()\n",
    "    current_pos = bar.get_x()\n",
    "    \n",
    "    if i == 0:\n",
    "        bar.set_x(current_pos + current_width)\n",
    "    else:\n",
    "        bar.set_x(current_pos - current_width / 2)\n",
    "\n",
    "plt.savefig(snakemake.output['precision_recall'], bbox_inches='tight', dpi=300, transparent=True)"
   ]
  }
 ],
 "metadata": {
  "kernelspec": {
   "display_name": "Python 3 (ipykernel)",
   "language": "python",
   "name": "python3"
  },
  "language_info": {
   "codemirror_mode": {
    "name": "ipython",
    "version": 3
   },
   "file_extension": ".py",
   "mimetype": "text/x-python",
   "name": "python",
   "nbconvert_exporter": "python",
   "pygments_lexer": "ipython3",
   "version": "3.11.9"
  }
 },
 "nbformat": 4,
 "nbformat_minor": 5
}
