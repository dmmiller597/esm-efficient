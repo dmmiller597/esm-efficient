{
 "cells": [
  {
   "cell_type": "code",
   "execution_count": null,
   "id": "ebc52da2",
   "metadata": {},
   "outputs": [],
   "source": [
    "import pandas as pd\n",
    "import seaborn as sns\n",
    "import matplotlib.pyplot as plt\n",
    "from sklearn.metrics import auc"
   ]
  },
  {
   "cell_type": "code",
   "execution_count": null,
   "id": "decf442a",
   "metadata": {},
   "outputs": [],
   "source": [
    "df_pr_lora= pd.read_csv(snakemake.input['pr_lora'])\n",
    "df_pr_lora['method'] = f'Head + LoRA ({100 * auc(df_pr_lora.recall, df_pr_lora.precision):.1f})'\n",
    "\n",
    "df_pr = pd.read_csv(snakemake.input['pr'])\n",
    "df_pr['method'] = f'Head Only ({100 * auc(df_pr.recall, df_pr.precision):.1f})'\n",
    "\n",
    "df_deeptfactor_pr = pd.read_csv(snakemake.input['deepfactor_pr'])\n",
    "df_deeptfactor_pr['method'] = f'DeepTFactor ({100 * auc(df_deeptfactor_pr.recall, df_deeptfactor_pr.precision):.1f})'\n",
    "\n",
    "df_pr = pd.concat([df_pr, df_pr_lora, df_deeptfactor_pr])"
   ]
  },
  {
   "cell_type": "code",
   "execution_count": null,
   "id": "e4301fa1",
   "metadata": {},
   "outputs": [],
   "source": [
    "sns.set_theme(style=\"whitegrid\")\n",
    "plt.figure(figsize=(5, 5), dpi=300)\n",
    "palette = [\"#15134b\", \"#87c785\", \"#572f30\"]\n",
    "sns.lineplot(data=df_pr, x='recall', y='precision', hue='method', palette=palette)\n",
    "plt.xlabel('Recall')\n",
    "plt.ylabel('Precision')\n",
    "plt.savefig(snakemake.output['precision_recall'], bbox_inches='tight', dpi=300, transparent=True)"
   ]
  },
  {
   "cell_type": "code",
   "execution_count": null,
   "id": "e96c97c0",
   "metadata": {},
   "outputs": [],
   "source": [
    "df_roc_lora = pd.read_csv(snakemake.input['roc_lora'])\n",
    "df_roc_lora['method'] = f'Head + LoRA ({100 * auc(df_roc_lora.fpr, df_roc_lora.tpr):.1f})'\n",
    "\n",
    "df_roc = pd.read_csv(snakemake.input['roc'])\n",
    "df_roc['method'] = f'Head Only ({100 * auc(df_roc.fpr, df_roc.tpr):.1f})'\n",
    "\n",
    "df_deeptfactor_roc = pd.read_csv(snakemake.input['deepfactor_roc'])\n",
    "df_deeptfactor_roc['method'] = f'DeepTFactor ({100 * auc(df_deeptfactor_roc.fpr, df_deeptfactor_roc.tpr):.1f})'\n",
    "\n",
    "df_roc = pd.concat([df_roc, df_roc_lora, df_deeptfactor_roc])"
   ]
  },
  {
   "cell_type": "code",
   "execution_count": null,
   "id": "125aec67",
   "metadata": {},
   "outputs": [],
   "source": [
    "sns.set_theme(style=\"whitegrid\")\n",
    "plt.figure(figsize=(5, 5), dpi=300)\n",
    "sns.lineplot(data=df_roc, x='fpr', y='tpr', hue='method', palette=palette)\n",
    "plt.xlabel('False Positive Rate')\n",
    "plt.ylabel('True Positive Rate')\n",
    "plt.savefig(snakemake.output['roc'], bbox_inches='tight', dpi=300, transparent=True)"
   ]
  }
 ],
 "metadata": {
  "kernelspec": {
   "display_name": "esm-efficient",
   "language": "python",
   "name": "python3"
  },
  "language_info": {
   "codemirror_mode": {
    "name": "ipython",
    "version": 3
   },
   "file_extension": ".py",
   "mimetype": "text/x-python",
   "name": "python",
   "nbconvert_exporter": "python",
   "pygments_lexer": "ipython3",
   "version": "3.8.18"
  }
 },
 "nbformat": 4,
 "nbformat_minor": 5
}
