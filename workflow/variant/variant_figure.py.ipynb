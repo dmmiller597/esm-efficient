{
 "cells": [
  {
   "cell_type": "code",
   "execution_count": null,
   "id": "819c9a5e",
   "metadata": {},
   "outputs": [],
   "source": [
    "import numpy as np\n",
    "import pandas as pd\n",
    "import seaborn as sns\n",
    "import matplotlib.pyplot as plt"
   ]
  },
  {
   "cell_type": "code",
   "execution_count": null,
   "id": "bdd70ccc",
   "metadata": {},
   "outputs": [],
   "source": [
    "df = list()\n",
    "\n",
    "for i in snakemake.input:\n",
    "    model = i.split('model=')[1].split('_')[0]\n",
    "    quantize = i.split('q=')[1].split('_')[0]\n",
    "\n",
    "    _df = pd.read_csv(i)\n",
    "    _df['efficient'] = 'Efficient' if 'e' in model else 'Original'\n",
    "    _df['quantize'] = quantize\n",
    "    _df['quantize'] = _df['quantize'].str.replace('none', 'bf16' if 'e' in model else '32bit')\n",
    "    _df['model'] = model.replace('e', '').replace('1v5', '1v').replace('1v4', '1v') \\\n",
    "        .replace('1v3', '1v').replace('1v2', '1v').replace('1v1', '1v') \\\n",
    "        .replace('c300m', '300M').replace('c600m', '600M')\n",
    "    _df['legend'] = _df['quantize'] + ' (' + _df['efficient'].astype(str) + ')'\n",
    "    df.append(_df)\n",
    "\n",
    "df = pd.concat(df).groupby(['model', 'quantize', 'efficient', 'study_id', 'legend'])[['correlation']].mean().reset_index()"
   ]
  },
  {
   "cell_type": "code",
   "execution_count": null,
   "id": "f278ab84",
   "metadata": {},
   "outputs": [],
   "source": [
    "_df = df.groupby(['model', 'quantize', 'efficient'])[['correlation']].agg(['mean', 'std']).reset_index()\n",
    "_df.columns = ['model', 'quantize', 'efficient', 'correlation_mean', 'correlation_std']\n",
    "_df.to_csv(snakemake.output['table'], index=False)"
   ]
  },
  {
   "cell_type": "code",
   "execution_count": null,
   "id": "09df970e",
   "metadata": {},
   "outputs": [],
   "source": [
    "groups = [['1b', '1v'], ['8M', '35M', '150M', '650M', '3B', '15B'], ['300M', '600M']]\n",
    "hue_order = ['32bit (Original)', 'bf16 (Efficient)', '8bit (Efficient)', '4bit (Efficient)']\n",
    "group_sizes = [len(group) for group in groups]\n",
    "total_size = sum(group_sizes)\n",
    "width_ratios = [size / total_size for size in group_sizes]\n",
    "fig, axes = plt.subplots(\n",
    "    1, 3, figsize=(8, 4), dpi=300, gridspec_kw={'width_ratios': width_ratios}, sharey=True\n",
    ")\n",
    "labels = ['ESM1', 'ESM2', 'ESM-C']\n",
    "for i, (group, ax, l) in enumerate(zip(groups, axes, labels)):\n",
    "    sns.boxplot(\n",
    "        data=df[df['model'].isin(group)], x='model', y='correlation', hue='legend', ax=ax,\n",
    "        order=group, hue_order=hue_order\n",
    "    )\n",
    "    ax.set(xlabel=l, ylabel=\"Spearman's Rank Correlation Coef.\" if i == 0 else '')\n",
    "    ax.legend().set_visible(False)\n",
    "    ax.spines[['right', 'top']].set_visible(False)\n",
    "    \n",
    "handles, labels = axes[0].get_legend_handles_labels()\n",
    "fig.legend(\n",
    "    handles, labels, loc='upper center', ncol=5, labelspacing=0,\n",
    "    handletextpad=0.35, columnspacing=1.25, bbox_to_anchor=(0.525, 1.05),\n",
    ")\n",
    "plt.tight_layout()\n",
    "plt.savefig(snakemake.output['fig'], bbox_inches='tight', dpi=300, transparent=True)"
   ]
  },
  {
   "cell_type": "code",
   "execution_count": null,
   "id": "a4d055d3",
   "metadata": {},
   "outputs": [],
   "source": [
    "models = ['1b', '1v', '8M', '35M', '150M', '650M', '3B', \"15B\", '300M', '600M']\n",
    "\n",
    "fig, axs = plt.subplots(3, len(models), figsize=(2 * len(models), 8), dpi=300, sharey=True)\n",
    "\n",
    "for i, q in enumerate(['bf16', '8bit', '4bit']):\n",
    "    for ax, model in zip(axs[i], models):\n",
    "        ax.scatter(\n",
    "            df[(df['efficient'] == 'Original') & (df['model'] == model)].correlation.tolist(),\n",
    "            df[(df['efficient'] == 'Efficient') & (df['model'] == model) & (df['quantize'] == q)].correlation.tolist(),\n",
    "            alpha=.3\n",
    "        )\n",
    "        ax.set_xlim((0, 1))\n",
    "        ax.set_ylim((0, 1))\n",
    "        ax.plot([0,1],[0,1], color='black', linestyle='--')\n",
    "        sns.despine()\n",
    "\n",
    "        if model == '1b':\n",
    "            ax.set_ylabel(q)\n",
    "\n",
    "        if q == '4bit':\n",
    "            ax.set_xlabel(model)\n",
    "\n",
    "fig.text(0.5, 0.04, 'Model Size', ha='center')\n",
    "fig.text(0.08, 0.5, 'Quantization', va='center', rotation='vertical')\n",
    "plt.savefig(snakemake.output['fig_scatter'], bbox_inches='tight', dpi=300)"
   ]
  }
 ],
 "metadata": {
  "kernelspec": {
   "display_name": "esme",
   "language": "python",
   "name": "python3"
  },
  "language_info": {
   "codemirror_mode": {
    "name": "ipython",
    "version": 3
   },
   "file_extension": ".py",
   "mimetype": "text/x-python",
   "name": "python",
   "nbconvert_exporter": "python",
   "pygments_lexer": "ipython3",
   "version": "3.11.9"
  }
 },
 "nbformat": 4,
 "nbformat_minor": 5
}
