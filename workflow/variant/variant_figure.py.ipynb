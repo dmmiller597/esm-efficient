{
 "cells": [
  {
   "cell_type": "code",
   "execution_count": null,
   "id": "819c9a5e",
   "metadata": {},
   "outputs": [],
   "source": [
    "import numpy as np\n",
    "import pandas as pd\n",
    "import seaborn as sns\n",
    "import matplotlib.pyplot as plt\n",
    "from snakemake.io import glob_wildcards"
   ]
  },
  {
   "cell_type": "code",
   "execution_count": null,
   "id": "bdd70ccc",
   "metadata": {},
   "outputs": [],
   "source": [
    "df = list()\n",
    "\n",
    "for i in snakemake.input:\n",
    "    model = i.split('model=')[1].split('_')[0]\n",
    "    quantize = i.split('q=')[1].split('_')[0]\n",
    "\n",
    "    _df = pd.read_csv(i)\n",
    "    _df['efficient'] = 'Efficient' if 'e' in model else 'Original'\n",
    "    _df['quantize'] = quantize\n",
    "    _df['quantize'] = _df['quantize'].str.replace('none', 'bf16' if 'e' in model else '32bit')\n",
    "    _df['model'] = model.replace('e', '').replace('1v5', '1v').replace('1v4', '1v').replace('1v3', '1v').replace('1v2', '1v').replace('1v1', '1v')\n",
    "    _df['legend'] = _df['quantize'] + ' (' + _df['efficient'].astype(str) + ')'\n",
    "    df.append(_df)\n",
    "\n",
    "df = pd.concat(df).groupby(['model', 'quantize', 'efficient', 'study_id', 'legend'])[['correlation']].mean().reset_index()"
   ]
  },
  {
   "cell_type": "code",
   "execution_count": null,
   "id": "f278ab84",
   "metadata": {},
   "outputs": [],
   "source": [
    "_df = df.groupby(['model', 'quantize', 'efficient'])[['correlation']].agg(['mean', 'std']).reset_index()\n",
    "_df.columns = ['model', 'quantize', 'efficient', 'correlation_mean', 'correlation_std']\n",
    "_df.to_csv(snakemake.output['table'], index=False)"
   ]
  },
  {
   "cell_type": "code",
   "execution_count": null,
   "id": "09df970e",
   "metadata": {},
   "outputs": [],
   "source": [
    "plt.figure(figsize=(8, 4), dpi=300)\n",
    "\n",
    "sns.boxplot(data=df.reset_index(drop=True), x='model', y='correlation', hue='legend',\n",
    "            order=['8M', '35M', '150M', '650M', '1b', '1v', '3B', \"15B\"], \n",
    "            hue_order=['32bit (Original)', 'bf16 (Efficient)', '8bit (Efficient)', '4bit (Efficient)'])\n",
    "plt.xlabel('Model Size')\n",
    "plt.ylabel('Spearman Correlation')\n",
    "plt.legend(loc=(0.01, .97), ncol=5, labelspacing=0, handletextpad=0.35, columnspacing=1.25)\n",
    "sns.despine()\n",
    "plt.savefig(snakemake.output['fig'], bbox_inches='tight', dpi=300)"
   ]
  },
  {
   "cell_type": "code",
   "execution_count": null,
   "id": "a4d055d3",
   "metadata": {},
   "outputs": [],
   "source": [
    "models = ['8M', '35M', '150M', '650M', '1b', '1v', '3B', \"15B\"]\n",
    "\n",
    "fig, axs = plt.subplots(3, len(models), figsize=(2 * len(models), 8), dpi=300, sharey=True)\n",
    "\n",
    "for i, q in enumerate(['bf16', '8bit', '4bit']):\n",
    "    for ax, model in zip(axs[i], models):\n",
    "        ax.scatter(\n",
    "            df[(df['efficient'] == 'Original') & (df['model'] == model)].correlation.tolist(),\n",
    "            df[(df['efficient'] == 'Efficient') & (df['model'] == model) & (df['quantize'] == q)].correlation.tolist(),\n",
    "            alpha=.3\n",
    "        )\n",
    "        ax.set_xlim((0, 1))\n",
    "        ax.set_ylim((0, 1))\n",
    "        ax.plot([0,1],[0,1], color='black', linestyle='--')\n",
    "        sns.despine()\n",
    "\n",
    "        if model == '8M':\n",
    "            ax.set_ylabel(q)\n",
    "\n",
    "        if q == '4bit':\n",
    "            ax.set_xlabel(model)\n",
    "\n",
    "fig.text(0.5, 0.04, 'Model Size', ha='center')\n",
    "fig.text(0.08, 0.5, 'Quantization', va='center', rotation='vertical')\n",
    "plt.savefig(snakemake.output['fig_scatter'], bbox_inches='tight', dpi=300)"
   ]
  }
 ],
 "metadata": {
  "kernelspec": {
   "display_name": "Python 3 (ipykernel)",
   "language": "python",
   "name": "python3"
  },
  "language_info": {
   "codemirror_mode": {
    "name": "ipython",
    "version": 3
   },
   "file_extension": ".py",
   "mimetype": "text/x-python",
   "name": "python",
   "nbconvert_exporter": "python",
   "pygments_lexer": "ipython3",
   "version": "3.11.9"
  }
 },
 "nbformat": 4,
 "nbformat_minor": 5
}
