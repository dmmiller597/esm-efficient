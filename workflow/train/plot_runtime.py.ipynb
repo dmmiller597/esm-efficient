{
 "cells": [
  {
   "cell_type": "code",
   "execution_count": null,
   "id": "eff9bfb5",
   "metadata": {},
   "outputs": [],
   "source": [
    "import numpy as np\n",
    "import pandas as pd\n",
    "import seaborn as sns\n",
    "import matplotlib.pyplot as plt\n",
    "from esme.data import read_fai"
   ]
  },
  {
   "cell_type": "code",
   "execution_count": null,
   "id": "791ff32b",
   "metadata": {},
   "outputs": [],
   "source": [
    "df = list()\n",
    "\n",
    "for i in snakemake.input['runtime']:\n",
    "    _df = pd.read_csv(i, sep='\\t')\n",
    "    wld = dict(\n",
    "        j.replace('.lightning', '').split('=')\n",
    "        for j in i.split('runtime_')[1].replace('.txt', '').split('_')\n",
    "    )\n",
    "    for k, v in wld.items():\n",
    "        _df[k] = v\n",
    "    df.append(_df)\n",
    "    \n",
    "df = pd.concat(df)"
   ]
  },
  {
   "cell_type": "code",
   "execution_count": null,
   "id": "eebe10e1",
   "metadata": {},
   "outputs": [],
   "source": [
    "df['Implementation'] = np.where(df['model'].str.contains('e'), 'Efficient', 'Original')\n",
    "df['model'] = df['model'].str.replace('e', '')\n",
    "df['q'] = df['q'].str.replace('none', 'bf16')\n",
    "df['hours'] = df['s'] / 60 / 60"
   ]
  },
  {
   "cell_type": "code",
   "execution_count": null,
   "id": "f1090ab6",
   "metadata": {},
   "outputs": [],
   "source": [
    "_df = df.rename(columns={\n",
    "    'model': 'Model Size', \n",
    "    'c': 'Checkpointing', \n",
    "    'lora': 'Lora',\n",
    "    'deepspeed': 'DeepSpeed',\n",
    "    'hours': 'Runtime (hour)'\n",
    "}).replace({'none': ''})\n",
    "_df[['Model Size', 'Checkpointing', 'Lora', 'Implementation', 'Runtime (hour)']] \\\n",
    "    .to_csv(snakemake.output['stats'], index=False)"
   ]
  },
  {
   "cell_type": "code",
   "execution_count": null,
   "id": "f3cac595",
   "metadata": {},
   "outputs": [],
   "source": [
    "df_finetune = df[df['lora'] != 'none']\n",
    "df = df[df['lora'] == 'none']"
   ]
  },
  {
   "cell_type": "code",
   "execution_count": null,
   "id": "69030b65",
   "metadata": {},
   "outputs": [],
   "source": [
    "plt.figure(figsize=(4, 4), dpi=300)\n",
    "sns.set_theme(style=\"whitegrid\")\n",
    "df_finetune['_kb'] = df_finetune['hours']\n",
    "sns.barplot(df_finetune, x='model', y='_kb', hue='q')\n",
    "plt.ylabel('One Epoch on UniProtKB (hours)', fontsize=11)\n",
    "plt.xlabel('Finetuning of Model Size')\n",
    "plt.legend(title=None)\n",
    "plt.savefig(snakemake.output['fig_lora'], bbox_inches='tight', dpi=300, transparent=True)"
   ]
  },
  {
   "cell_type": "code",
   "execution_count": null,
   "id": "7e3a4054",
   "metadata": {},
   "outputs": [],
   "source": [
    "plt.figure(figsize=(4, 4), dpi=300)\n",
    "sns.set_theme(style=\"whitegrid\")\n",
    "df['_kb'] = df['hours']\n",
    "sns.barplot(df, x='model', y='_kb', hue='Implementation')\n",
    "plt.ylabel('One Epoch on UniProtKB (hours)', fontsize=11)\n",
    "plt.xlabel('Traning of Model Size')\n",
    "plt.savefig(snakemake.output['fig'], bbox_inches='tight', dpi=300, transparent=True)"
   ]
  },
  {
   "cell_type": "code",
   "execution_count": null,
   "id": "8aba2630",
   "metadata": {},
   "outputs": [],
   "source": [
    "df_fai_uniprotkb = read_fai(snakemake.input['fai_uniprotkb'])\n",
    "df_fai_uniprot50 = read_fai(snakemake.input['fai_uniprot50'])\n",
    "\n",
    "num_token_uniprotkb = df_fai_uniprotkb['length'].sum()\n",
    "num_token_uniprot50 = df_fai_uniprot50['length'].sum()\n",
    "\n",
    "pd.DataFrame({\n",
    "    'tokens': [num_token_uniprotkb, num_token_uniprot50],\n",
    "    'dataset': ['UniProtKB', 'UniProt50'],\n",
    "    'num_proteins': [df_fai_uniprotkb.shape[0], df_fai_uniprot50.shape[0]]\n",
    "}).to_csv(snakemake.output['token_stats'], index=False, sep='\\t')"
   ]
  },
  {
   "cell_type": "code",
   "execution_count": null,
   "id": "2feac3f7",
   "metadata": {},
   "outputs": [],
   "source": [
    "plt.figure(figsize=(4, 4), dpi=300)\n",
    "sns.set_theme(style=\"whitegrid\")\n",
    "df['_50'] = df['hours'] * num_token_uniprot50 / num_token_uniprotkb\n",
    "sns.barplot(df, x='model', y='_50', hue='Implementation')\n",
    "plt.ylabel('Estimated One Epoch on UniRef50 (hours)', fontsize=11)\n",
    "plt.xlabel('Training of Model Size')\n",
    "plt.legend(title=None)\n",
    "plt.savefig(snakemake.output['fig_estimate'], bbox_inches='tight', dpi=300, transparent=True)"
   ]
  }
 ],
 "metadata": {
  "kernelspec": {
   "display_name": "Python 3 (ipykernel)",
   "language": "python",
   "name": "python3"
  },
  "language_info": {
   "codemirror_mode": {
    "name": "ipython",
    "version": 3
   },
   "file_extension": ".py",
   "mimetype": "text/x-python",
   "name": "python",
   "nbconvert_exporter": "python",
   "pygments_lexer": "ipython3",
   "version": "3.11.9"
  }
 },
 "nbformat": 4,
 "nbformat_minor": 5
}
