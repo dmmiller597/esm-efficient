{
 "cells": [
  {
   "cell_type": "code",
   "execution_count": null,
   "metadata": {},
   "outputs": [],
   "source": [
    "import numpy as np\n",
    "import pandas as pd\n",
    "import seaborn as sns\n",
    "import matplotlib.pyplot as plt\n",
    "from workflow import model_color_map"
   ]
  },
  {
   "cell_type": "code",
   "execution_count": null,
   "metadata": {},
   "outputs": [],
   "source": [
    "df = list()\n",
    "\n",
    "for i in snakemake.input:\n",
    "    _df = pd.read_csv(i)\n",
    "    wld = dict(\n",
    "        j.split('=')\n",
    "        for j in i.split('memory_usage_')[1].replace('.csv', '').split('_')\n",
    "    )\n",
    "    for k, v in wld.items():\n",
    "        _df[k] = v\n",
    "    df.append(_df)\n",
    "    \n",
    "df = pd.concat(df).rename(columns={'d': 'DeepSpeed', 'mem_gb': 'Memory Usage (GB)'})"
   ]
  },
  {
   "cell_type": "code",
   "execution_count": null,
   "metadata": {},
   "outputs": [],
   "source": [
    "df['Model'] = df['model'].str.replace('e', '')\n",
    "df = df[df['Memory Usage (GB)'] != -1]"
   ]
  },
  {
   "cell_type": "code",
   "execution_count": null,
   "metadata": {},
   "outputs": [],
   "source": [
    "plt.figure(figsize=(6, 3), dpi=300)\n",
    "\n",
    "sns.boxplot(data=df, x='Model', y='Memory Usage (GB)', hue='DeepSpeed', palette=['#1f77b4', '#ff7f0e'])\n",
    "sns.despine()\n",
    "\n",
    "plt.savefig(snakemake.output['fig_memory'], dpi=300, \n",
    "            bbox_inches='tight', transparent=True)"
   ]
  }
 ],
 "metadata": {
  "language_info": {
   "name": "python"
  }
 },
 "nbformat": 4,
 "nbformat_minor": 2
}
