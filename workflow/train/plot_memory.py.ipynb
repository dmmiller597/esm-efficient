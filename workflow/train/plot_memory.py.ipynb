{
 "cells": [
  {
   "cell_type": "code",
   "execution_count": null,
   "id": "cbe57d33",
   "metadata": {},
   "outputs": [],
   "source": [
    "import numpy as np\n",
    "import pandas as pd\n",
    "import seaborn as sns\n",
    "import matplotlib.pyplot as plt\n",
    "\n",
    "sns.set_theme(style=\"whitegrid\")\n"
   ]
  },
  {
   "cell_type": "code",
   "execution_count": null,
   "id": "2b8da087",
   "metadata": {},
   "outputs": [],
   "source": [
    "df = list()\n",
    "\n",
    "for i in snakemake.input:\n",
    "    _df = pd.read_csv(i)\n",
    "    wld = dict(\n",
    "        j.split('=')\n",
    "        for j in i.split('memory_usage_')[1].replace('.csv', '').split('_')\n",
    "    )\n",
    "    for k, v in wld.items():\n",
    "        _df[k] = v\n",
    "\n",
    "    _df = _df[_df['length'] <= 2000]\n",
    "    df.append(_df)\n",
    "    \n",
    "df = pd.concat(df)"
   ]
  },
  {
   "cell_type": "code",
   "execution_count": null,
   "id": "bd7c0fca",
   "metadata": {},
   "outputs": [],
   "source": [
    "df['efficient'] = np.where(df['model'].str.contains('e'), 'Efficient', 'Baseline')\n",
    "df['model'] = df['model'].str.replace('e', '')\n",
    "df['q'] = df['q'].replace('none', 'bf16').replace('8bit', 'int8')"
   ]
  },
  {
   "cell_type": "code",
   "execution_count": null,
   "id": "95a8ebc1",
   "metadata": {},
   "outputs": [],
   "source": [
    "_df = df.rename(columns={\n",
    "    'model': 'Model Size', \n",
    "    'c': 'Checkpointing', \n",
    "    'lora': 'Lora',\n",
    "    'd': 'DeepSpeed',\n",
    "    'mem_gb': 'Memory (GB)',\n",
    "    'efficient': 'Implementation',\n",
    "    'length': 'Sequence Length',\n",
    "}).replace({'none': ''})\n",
    "_df[_df['Memory (GB)'] != -1][[\n",
    "    'Sequence Length', 'Model Size', 'Implementation', \n",
    "    'Checkpointing', 'Lora', 'DeepSpeed', 'Memory (GB)'\n",
    "]].to_csv(snakemake.output['table'], index=False)"
   ]
  },
  {
   "cell_type": "code",
   "execution_count": null,
   "id": "1d8e116a",
   "metadata": {},
   "outputs": [],
   "source": [
    "df = df.set_index(['model', 'b', 'q', 'c', 'lora', 'd', 'efficient'])\n",
    "\n",
    "for index in df[df['mem_gb'] == -1].index:\n",
    "    df.loc[index, 'mem_gb']= np.nan\n",
    "\n",
    "df = df.reset_index()"
   ]
  },
  {
   "cell_type": "code",
   "execution_count": null,
   "id": "3c1ea400",
   "metadata": {},
   "outputs": [],
   "source": [
    "df_lora = df[df['lora'] != 'none']\n",
    "df = df[df['lora'] == 'none'] "
   ]
  },
  {
   "cell_type": "code",
   "execution_count": null,
   "id": "aa84e546",
   "metadata": {},
   "outputs": [],
   "source": [
    "palette = sns.color_palette()\n",
    "\n",
    "palette = {\n",
    "    i: p\n",
    "    for i, p in zip(['8M', '35M', '150M', '650M', '3B', '15B'], palette)\n",
    "}"
   ]
  },
  {
   "cell_type": "code",
   "execution_count": null,
   "id": "37cfd24b",
   "metadata": {},
   "outputs": [],
   "source": [
    "df['method'] = 'Baseline'\n",
    "df['method'] = np.where(df['efficient'] == 'Efficient', '+FlashAttention', df['method'])\n",
    "df['method'] = np.where(df['c'] == 'True', '+Checkpointing', df['method'])\n",
    "df['method'] = np.where(df['d'] == 'True', '+Zero-Offload \\n(DeepSpeed Stage 2)', df['method'])"
   ]
  },
  {
   "cell_type": "code",
   "execution_count": null,
   "id": "8eb49250",
   "metadata": {},
   "outputs": [],
   "source": [
    "fig, (ax1, ax2) = plt.subplots(1, 2, figsize=(8, 4), dpi=300, sharey=True, gridspec_kw={'width_ratios': [2, 1]})\n",
    "\n",
    "def errorbar(x):\n",
    "    return (x.min(), x.max())\n",
    "\n",
    "sns.pointplot(data=df, x='method', y='mem_gb', hue='model', palette=palette, \n",
    "              ax=ax1, errorbar=errorbar, dodge=True) \n",
    "\n",
    "oom_limit = 81.9\n",
    "order = ['Baseline', '+FlashAttention', '+Checkpointing', \n",
    "         '+Zero-Offload \\n(DeepSpeed Stage 2)']\n",
    "\n",
    "df_oom = df[df['mem_gb'].isna()]\n",
    "\n",
    "for q, _df in df_oom.groupby('method'):\n",
    "    _df = _df.drop_duplicates('model')\n",
    "    n = _df.shape[0]\n",
    "    for i, row in enumerate(_df.itertuples()):\n",
    "        ax1.text(.2 + order.index(q) + (i - n / 2) * .15, oom_limit + 1, 'OOM', \n",
    "                color=palette[row.model], ha='center', rotation=60)\n",
    "\n",
    "ax1.set_xticklabels(order, rotation=10)\n",
    "ax1.axhline(y=oom_limit, linestyle='--', color='black')\n",
    "ax1.set_xlabel(None)\n",
    "ax1.set_ylabel('Memory Usage (GB)')\n",
    "ax1.legend(title=None)\n",
    "\n",
    "order = ['bf16', 'int8']\n",
    "sns.pointplot(data=df_lora[~df_lora['mem_gb'].isna()], x='q', y='mem_gb', \n",
    "              hue='model', dodge=True, order=order, palette=palette, \n",
    "              legend=False, ax=ax2, errorbar=errorbar)\n",
    "\n",
    "df_oom = df_lora[df_lora['mem_gb'].isna()]\n",
    "\n",
    "ax2.axhline(y=oom_limit, linestyle='--', color='black')\n",
    "ax2.set_xlabel('LoRA Quantization')\n",
    "ax2.set_ylabel('Memory Usage (GB)')\n",
    "\n",
    "for q, _df in df_oom.groupby('q'):\n",
    "    _df = _df.drop_duplicates('model')\n",
    "    n = _df.shape[0]\n",
    "    for i, row in enumerate(_df.itertuples()):\n",
    "        print(n, i)\n",
    "        ax2.text(order.index(q) + (i - n / 2) * .01 , oom_limit + 1, 'OOM', \n",
    "                color=palette[row.model], ha='center', rotation=45)\n",
    "\n",
    "plt.ylim(-1, oom_limit + 5)\n",
    "plt.savefig(snakemake.output['fig_memory'], dpi=300, bbox_inches='tight', transparent=True)"
   ]
  }
 ],
 "metadata": {
  "kernelspec": {
   "display_name": "esm-efficient",
   "language": "python",
   "name": "python3"
  },
  "language_info": {
   "codemirror_mode": {
    "name": "ipython",
    "version": 3
   },
   "file_extension": ".py",
   "mimetype": "text/x-python",
   "name": "python",
   "nbconvert_exporter": "python",
   "pygments_lexer": "ipython3",
   "version": "3.8.19"
  }
 },
 "nbformat": 4,
 "nbformat_minor": 5
}
