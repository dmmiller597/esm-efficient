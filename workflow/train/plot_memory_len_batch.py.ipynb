{
 "cells": [
  {
   "cell_type": "code",
   "execution_count": null,
   "id": "cbe57d33",
   "metadata": {},
   "outputs": [],
   "source": [
    "import numpy as np\n",
    "import pandas as pd\n",
    "import seaborn as sns\n",
    "import matplotlib.pyplot as plt\n",
    "from workflow import model_color_map\n",
    "\n",
    "sns.set_theme(style=\"whitegrid\")\n"
   ]
  },
  {
   "cell_type": "code",
   "execution_count": null,
   "id": "2b8da087",
   "metadata": {},
   "outputs": [],
   "source": [
    "df = list()\n",
    "\n",
    "for i in snakemake.input:\n",
    "    _df = pd.read_csv(i)\n",
    "    wld = dict(\n",
    "        j.split('=')\n",
    "        for j in i.split('memory_usage_')[1].replace('.csv', '').split('_')\n",
    "    )\n",
    "    for k, v in wld.items():\n",
    "        _df[k] = v\n",
    "    df.append(_df)\n",
    "    \n",
    "df = pd.concat(df).rename(columns={'q': 'quantization', 'mem_gb': 'Memory Usage (GB)'})"
   ]
  },
  {
   "cell_type": "code",
   "execution_count": null,
   "id": "bd7c0fca",
   "metadata": {},
   "outputs": [],
   "source": [
    "df['Model'] = df['model'].str.replace('e', '')\n",
    "df = df[df['Memory Usage (GB)'] != -1]\n",
    "df['Precision'] = df['quantization'].str.replace('none', '16bit')\n",
    "df['Number of Tokens'] = df['length'] * df['b'].astype(int)"
   ]
  },
  {
   "cell_type": "code",
   "execution_count": null,
   "id": "6307bf51",
   "metadata": {},
   "outputs": [],
   "source": [
    "colors = [\"#04a3bd\", \"#f0be3d\", \"#931e18\", \"#da7901\", \"#247d3f\", \"#20235b\"]\n",
    "model_color_map = {k:v for k, v in zip(model_color_map.keys(), reversed(colors))}"
   ]
  },
  {
   "cell_type": "code",
   "execution_count": null,
   "id": "8eb49250",
   "metadata": {},
   "outputs": [],
   "source": [
    "plt.figure(figsize=(6, 3), dpi=300)\n",
    "\n",
    "ax = sns.FacetGrid(df, col='Model', hue='Precision').map(\n",
    "    sns.lineplot, 'Number of Tokens', 'Memory Usage (GB)').add_legend()\n",
    "oom_limit = 81.9\n",
    "for ax in ax.axes.flat:\n",
    "    ax.axhline(y=oom_limit, linestyle='--', color='black')\n",
    "plt.ylim(-0.01, oom_limit + 1)\n",
    "plt.savefig(snakemake.output['fig_memory_len_batch'], dpi=300, \n",
    "            bbox_inches='tight', transparent=True)"
   ]
  }
 ],
 "metadata": {
  "kernelspec": {
   "display_name": "esm-efficient",
   "language": "python",
   "name": "python3"
  },
  "language_info": {
   "codemirror_mode": {
    "name": "ipython",
    "version": 3
   },
   "file_extension": ".py",
   "mimetype": "text/x-python",
   "name": "python",
   "nbconvert_exporter": "python",
   "pygments_lexer": "ipython3",
   "version": "3.8.18"
  }
 },
 "nbformat": 4,
 "nbformat_minor": 5
}
